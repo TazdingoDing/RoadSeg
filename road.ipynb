{
 "cells": [
  {
   "cell_type": "code",
   "execution_count": 2,
   "metadata": {},
   "outputs": [],
   "source": [
    "from scipy.spatial import cKDTree\n",
    "import numpy as np\n",
    "import pickle\n"
   ]
  },
  {
   "cell_type": "code",
   "execution_count": 10,
   "metadata": {},
   "outputs": [],
   "source": [
    "def getEigenN(matrix):\n",
    "    cov = np.cov(matrix.T)\n",
    "    val, vec = np.linalg.eig(cov)\n",
    "    srt = val.argsort()[::-1]\n",
    "    val = val[srt]\n",
    "    vec = vec[:,srt]\n",
    "    if (val[2] < 0):\n",
    "        val[2] = 0\n",
    "    val = val/sum(val)\n",
    "    return val, vec"
   ]
  },
  {
   "cell_type": "code",
   "execution_count": 11,
   "metadata": {},
   "outputs": [],
   "source": [
    "def getHighIntensityRoadPoints(data, threshold, clf):\n",
    "    XYZ = data[:,0:3]\n",
    "    XYZKD = cKDTree(XYZ, leafsize=30)\n",
    "    features = []\n",
    "    roadIndex = []\n",
    "    for i in range(data.shape[0]):\n",
    "        #intensity index\n",
    "        if (data[i][3] >= 190):\n",
    "            neighborIndex = XYZKD.query_ball_point(XYZ[i], 1)\n",
    "            if len(neighborIndex) >= 3:\n",
    "                neighbors = XYZ[neighborIndex]\n",
    "                val, vec = getEigenN(neighbors)\n",
    "                vec = vec.T\n",
    "                EV1, EV2, EV3 = val[0],val[1],val[2]\n",
    "                VT1, VT2, VT3 = vec[0],vec[1],vec[2]\n",
    "        \n",
    "                for j in range(3):\n",
    "                    VT3[j] = abs(VT3[j])\n",
    "                vertical = -(VT3[2]/sum(VT3) - 1)\n",
    "                \n",
    "                feature = [(EV1-EV2)/EV1, (EV2-EV3)/EV1, EV3/EV1, vertical]\n",
    "                features.append(feature)\n",
    "                roadIndex.append(i)\n",
    "    results = clf.predict(features)\n",
    "    ##"
   ]
  },
  {
   "cell_type": "code",
   "execution_count": 5,
   "metadata": {},
   "outputs": [],
   "source": [
    "XYZI = np.genfromtxt(\"withGround01.csv\", delimiter=\",\", usecols=(0,1,2,3))\n",
    "with open('roadClassifier.pickle', 'rb') as f:\n",
    "    clf = pickle.load(f)\n"
   ]
  },
  {
   "cell_type": "code",
   "execution_count": null,
   "metadata": {},
   "outputs": [],
   "source": [
    "highIntensityRoadPoints = getHighIntensityRoadPoints(XYZI, 190, clf)"
   ]
  },
  {
   "cell_type": "code",
   "execution_count": 6,
   "metadata": {},
   "outputs": [],
   "source": [
    "XYZ = XYZI[:,0:3]"
   ]
  },
  {
   "cell_type": "code",
   "execution_count": 9,
   "metadata": {},
   "outputs": [
    {
     "data": {
      "text/plain": [
       "94.0"
      ]
     },
     "execution_count": 9,
     "metadata": {},
     "output_type": "execute_result"
    }
   ],
   "source": [
    "XYZI[3][3]"
   ]
  },
  {
   "cell_type": "code",
   "execution_count": null,
   "metadata": {},
   "outputs": [],
   "source": []
  }
 ],
 "metadata": {
  "kernelspec": {
   "display_name": "Python 3",
   "language": "python",
   "name": "python3"
  },
  "language_info": {
   "codemirror_mode": {
    "name": "ipython",
    "version": 3
   },
   "file_extension": ".py",
   "mimetype": "text/x-python",
   "name": "python",
   "nbconvert_exporter": "python",
   "pygments_lexer": "ipython3",
   "version": "3.6.5"
  }
 },
 "nbformat": 4,
 "nbformat_minor": 2
}
