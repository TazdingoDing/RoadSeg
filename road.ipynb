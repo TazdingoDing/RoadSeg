{
 "cells": [
  {
   "cell_type": "code",
   "execution_count": 1,
   "metadata": {},
   "outputs": [],
   "source": [
    "from scipy.spatial import cKDTree\n",
    "import numpy as np\n",
    "import pickle\n",
    "import time\n",
    "from PIL import Image\n",
    "from scipy.spatial import ConvexHull"
   ]
  },
  {
   "cell_type": "code",
   "execution_count": 2,
   "metadata": {},
   "outputs": [],
   "source": [
    "def getEigenN(matrix):\n",
    "    cov = np.cov(matrix.T)\n",
    "    val, vec = np.linalg.eig(cov)\n",
    "    srt = val.argsort()[::-1]\n",
    "    val = val[srt]\n",
    "    vec = vec[:,srt]\n",
    "    if (val[2] < 0):\n",
    "        val[2] = 0\n",
    "    val = val/sum(val)\n",
    "    return val, vec"
   ]
  },
  {
   "cell_type": "code",
   "execution_count": 3,
   "metadata": {},
   "outputs": [],
   "source": [
    "def getHighIntensityRoadPoints(data, threshold, clf):\n",
    "    XYZ = data[:,0:3]\n",
    "    print(\"building KDTree\")\n",
    "    XYZKD = cKDTree(XYZ, leafsize=30)\n",
    "    features = []\n",
    "    roadIndex = []\n",
    "    \n",
    "\n",
    "    p1 = data.shape[0]/100\n",
    "    p2 = 0\n",
    "    #t1 = time.time()\n",
    "    #t2 = time.time()\n",
    "    print(\"go\")\n",
    "    \n",
    "    for i in range(data.shape[0]):\n",
    "        #intensity index\n",
    "        if (data[i][3] >= 190):\n",
    "            neighborIndex = XYZKD.query_ball_point(XYZ[i], 1)\n",
    "            if len(neighborIndex) >= 3:\n",
    "                neighbors = XYZ[neighborIndex]\n",
    "                val, vec = getEigenN(neighbors)\n",
    "                vec = vec.T\n",
    "                EV1, EV2, EV3 = val[0],val[1],val[2]\n",
    "                VT1, VT2, VT3 = vec[0],vec[1],vec[2]\n",
    "        \n",
    "                for j in range(3):\n",
    "                    VT3[j] = abs(VT3[j])\n",
    "                vertical = -(VT3[2]/sum(VT3) - 1)\n",
    "                \n",
    "                feature = [(EV1-EV2)/EV1, (EV2-EV3)/EV1, EV3/EV1, vertical]\n",
    "                features.append(feature)\n",
    "                roadIndex.append(i)\n",
    "        \n",
    "        if (i > p1):\n",
    "            p1 += data.shape[0]/100\n",
    "            p2 += 1\n",
    "            print(str(p2)+\"%\")\n",
    "        \n",
    "        \n",
    "    results = clf.predict(features)\n",
    "    XYZIIndexes = []\n",
    "    for i in range(len(results)):\n",
    "        if (results[i] == 1):\n",
    "            XYZIIndexes.append(roadIndex[i])\n",
    "    return data[XYZIIndexes]"
   ]
  },
  {
   "cell_type": "code",
   "execution_count": 4,
   "metadata": {},
   "outputs": [],
   "source": [
    "class RoadMarkings():\n",
    "    points = None\n",
    "    length = None\n",
    "    width = None\n",
    "    area = None\n",
    "    vec = None\n",
    "    val = None\n",
    "    center = None\n",
    "    barycenter = None\n",
    "    widthCenter = None\n",
    "    lengthCenter = None\n",
    "    def __init__(self, points):\n",
    "        if type(points) != np.ndarray:\n",
    "            self.points = np.array(points)\n",
    "        else:\n",
    "            self.points = points\n",
    "        self.__setProperties()\n",
    "    \n",
    "    \n",
    "    def __setProperties(self):\n",
    "        rec, area = self.__minimumBoundingRectangle(self.points)\n",
    "        edges = []\n",
    "        for i in range(1,4):\n",
    "            edges.append(np.linalg.norm(rec[0]-rec[i]))\n",
    "            \n",
    "        edges = np.array(edges)\n",
    "        srt = edges.argsort()\n",
    "        edges = edges[srt]\n",
    "        srt = srt.tolist()\n",
    "        self.widthCenter = (rec[0] + rec[srt.index(0)+1])/2\n",
    "        self.lengthCenter = (rec[0] + rec[srt.index(1)+1])/2\n",
    "        self.center = (rec[0] + rec[srt.index(2)+1])/2\n",
    "        \n",
    "        self.width = edges[0]\n",
    "        self.length = edges[1]\n",
    "        self.area = area\n",
    "        self.val, self.vec = self.getEigenN(self.points)\n",
    "        self.barycenter = np.average(self.points, axis=0)\n",
    "        \n",
    "    def getEigenN(self, matrix):\n",
    "        cov = np.cov(matrix.T)\n",
    "        val, vec = np.linalg.eig(cov)\n",
    "        srt = val.argsort()[::-1]\n",
    "        val = val[srt]\n",
    "        vec = vec[:,srt]\n",
    "\n",
    "        if (val[1] < 0):\n",
    "            val[1] = 0\n",
    "        val = val/sum(val)\n",
    "    \n",
    "    \n",
    "    \n",
    "        return val, vec\n",
    "    \n",
    "    def __minimumBoundingRectangle(self, points):\n",
    "        \n",
    "        from scipy.ndimage.interpolation import rotate\n",
    "        pi2 = np.pi/2.\n",
    "\n",
    "        # get the convex hull for the points\n",
    "        conv = ConvexHull(points)\n",
    "        hull_points = points[conv.vertices]\n",
    "\n",
    "        # calculate edge angles\n",
    "        edges = np.zeros((len(hull_points)-1, 2))\n",
    "        edges = hull_points[1:] - hull_points[:-1]\n",
    "\n",
    "        angles = np.zeros((len(edges)))\n",
    "        angles = np.arctan2(edges[:, 1], edges[:, 0])\n",
    "\n",
    "        angles = np.abs(np.mod(angles, pi2))\n",
    "        angles = np.unique(angles)\n",
    "\n",
    "        # find rotation matrices\n",
    "        # XXX both work\n",
    "        rotations = np.vstack([\n",
    "            np.cos(angles),\n",
    "            np.cos(angles-pi2),\n",
    "            np.cos(angles+pi2),\n",
    "            np.cos(angles)]).T\n",
    "        #     rotations = np.vstack([\n",
    "        #         np.cos(angles),\n",
    "        #         -np.sin(angles),\n",
    "        #         np.sin(angles),\n",
    "        #         np.cos(angles)]).T\n",
    "        rotations = rotations.reshape((-1, 2, 2))\n",
    "\n",
    "        # apply rotations to the hull\n",
    "        rot_points = np.dot(rotations, hull_points.T)\n",
    "\n",
    "        # find the bounding points\n",
    "        min_x = np.nanmin(rot_points[:, 0], axis=1)\n",
    "        max_x = np.nanmax(rot_points[:, 0], axis=1)\n",
    "        min_y = np.nanmin(rot_points[:, 1], axis=1)\n",
    "        max_y = np.nanmax(rot_points[:, 1], axis=1)\n",
    "\n",
    "        # find the box with the best area\n",
    "        areas = (max_x - min_x) * (max_y - min_y)\n",
    "        best_idx = np.argmin(areas)\n",
    "\n",
    "        # return the best box\n",
    "        x1 = max_x[best_idx]\n",
    "        x2 = min_x[best_idx]\n",
    "        y1 = max_y[best_idx]\n",
    "        y2 = min_y[best_idx]\n",
    "        r = rotations[best_idx]\n",
    "\n",
    "        rval = np.zeros((4, 2))\n",
    "        rval[0] = np.dot([x1, y2], r)\n",
    "        rval[1] = np.dot([x2, y2], r)\n",
    "        rval[2] = np.dot([x2, y1], r)\n",
    "        rval[3] = np.dot([x1, y1], r)\n",
    "\n",
    "        return rval, conv.area"
   ]
  },
  {
   "cell_type": "code",
   "execution_count": 146,
   "metadata": {},
   "outputs": [],
   "source": [
    "a =set( [1,2,3,4,5,6])\n",
    "b=set([2,3,6])\n",
    "\n"
   ]
  },
  {
   "cell_type": "code",
   "execution_count": 148,
   "metadata": {},
   "outputs": [
    {
     "data": {
      "text/plain": [
       "[1, 4, 5]"
      ]
     },
     "execution_count": 148,
     "metadata": {},
     "output_type": "execute_result"
    }
   ],
   "source": [
    "list(a.difference(b))"
   ]
  },
  {
   "cell_type": "code",
   "execution_count": null,
   "metadata": {},
   "outputs": [],
   "source": []
  },
  {
   "cell_type": "code",
   "execution_count": null,
   "metadata": {},
   "outputs": [],
   "source": []
  },
  {
   "cell_type": "code",
   "execution_count": 250,
   "metadata": {},
   "outputs": [],
   "source": [
    "class Pixel():\n",
    "    #size of each pixel\n",
    "    size = None\n",
    "    #raw input numpy array (n * m)\n",
    "    rawData = None\n",
    "    #translated numpy array (3 * n), minimal value = 0\n",
    "    __translatedData = None\n",
    "    #min, max and range of x, y and z\n",
    "    shapes = None\n",
    "    #range of x, y and z\n",
    "    ranges = None\n",
    "    #voxelized input data (numpy array xRange * yRange * zRange)\n",
    "    pixels = None\n",
    "    #a list of indexes of rawData\n",
    "    __pointsList = None\n",
    "    #cluster data\n",
    "    clusters = None\n",
    "    \n",
    "    crossWalk = None\n",
    "    dashLine = None\n",
    "    markings = None\n",
    "    smallDashLine = None\n",
    "    \n",
    "    \n",
    "    __usedClusters = None\n",
    "    \n",
    "    def __init__(self, rawData, size = 0.085, withKDTree = False):\n",
    "        self.rawData = rawData\n",
    "        self.size = size\n",
    "        self.__getNewShapes()\n",
    "        self.pixels = np.zeros(self.ranges[0:2])\n",
    "        self.__pointsList = self.__makeList(self.pixels.size)\n",
    "        self.__loadDataIndexToPointsList()\n",
    "        self.__loadPointsListToPixels(threshold = 0)\n",
    "        self.__cluster()\n",
    "    def __getNewShapes(self):\n",
    "        data = np.copy(self.rawData[:,0:3].T)\n",
    "        maxXYZ = [np.amax(data[i]) for i in range(3)]\n",
    "        minXYZ = [np.amin(data[i]) for i in range(3)]\n",
    "        rangeXYZ = [int(maxXYZ[i]/self.size) - int(minXYZ[i]/self.size) + 1 for i in range(3)]\n",
    "        \n",
    "        self.ranges = rangeXYZ\n",
    "        self.__translatedData = np.array([data[i] - minXYZ[i] for i in range(3)])\n",
    "        self.shapes = {\"xMax\": maxXYZ[0], \"yMax\": maxXYZ[1], \"zMax\": maxXYZ[2],\n",
    "                      \"xMin\": minXYZ[0], \"yMin\": minXYZ[1], \"zMin\": minXYZ[2], \n",
    "                      \"x_range\": rangeXYZ[0], \"y_range\": rangeXYZ[1], \"z_range\": rangeXYZ[2]}\n",
    "    def __makeList(self, length):\n",
    "        return [None] * length\n",
    "    def __getPointsListIndexFromIJ(self, i, j):\n",
    "        y_r = self.ranges[1]\n",
    "        return i * y_r + j\n",
    "    \n",
    "    \n",
    "    def __loadDataIndexToPointsList(self):\n",
    "        scaledData = self.__translatedData / self.size\n",
    "        \n",
    "        #shape[1]: number of points\n",
    "        for i in range(self.__translatedData.shape[1]):\n",
    "            I, J = [int(scaledData[j][i]) for j in range(2)]\n",
    "            #print([scaledData[j][i] for j in range(3)])\n",
    "            index = self.__getPointsListIndexFromIJ(I, J)\n",
    "            if not self.__pointsList[index]:\n",
    "                self.__pointsList[index] = list()\n",
    "            self.__pointsList[index].append(i)\n",
    "            \n",
    "    def __loadPointsListToPixels(self, threshold = 3):\n",
    "        for vi in range(len(self.__pointsList)):\n",
    "            if self.__pointsList[vi]:\n",
    "                pointsInside = len(self.__pointsList[vi])\n",
    "                if (pointsInside > threshold):\n",
    "                    i, j = self.__getIJFromPointsListIndex(vi)\n",
    "                    self.pixels[i][j] = pointsInside\n",
    "    def __getIJFromPointsListIndex(self, index):\n",
    "        y_r = self.ranges[1]\n",
    "        i, j = divmod(index, y_r)\n",
    "        return i, j\n",
    "    def __cluster(self):\n",
    "        #distance threshold\n",
    "        crossDistanceMax = 30*0.065/self.size\n",
    "        crossDistanceMin = 1*0.065/self.size\n",
    "        dashDistanceMax = 320*0.065/self.size\n",
    "        dashDistanceMin = 70*0.065/self.size\n",
    "        smallDashDistanceMax = 35*0.065/self.size\n",
    "        smallDashDistanceMin = 10*0.065/self.size\n",
    "        \n",
    "        \n",
    "        #numbers\n",
    "        crossWalkThreshold = 2\n",
    "        dashLineThreshold = 3\n",
    "        smallDashLineThreshold = 2\n",
    "        \n",
    "        #direction difference \n",
    "        crossDirectionThreshold = 20\n",
    "        straightDirectionThreshold = 30\n",
    "        smallDashDirectionThreshold = 10\n",
    "        \n",
    "        rows = self.ranges[0]\n",
    "        cols = self.ranges[1]\n",
    "\n",
    "        bag = []\n",
    "        kernel = [(0,-2),(0,-1),(0,1),(0,2),(-1,-1),(-1,0),(-1,1),(1,-1),(1,0),(1,1),(-2,0),(2,0)]\n",
    "        intensityData = np.copy(self.pixels)\n",
    "        \n",
    "        #---connect parts\n",
    "        for i in range(2, rows - 2):\n",
    "            for j in range(2, cols - 2):\n",
    "\n",
    "                if (intensityData[i][j] >= 1):\n",
    "                    cluster = []\n",
    "                    near = [(i, j)]\n",
    "                    while(len(near) != 0):\n",
    "                        point = near.pop()\n",
    "                        cluster.append(point)\n",
    "                        px, py = point\n",
    "                        intensityData[px][py] = 0\n",
    "                        for offset in kernel:\n",
    "                            tmpx = px + offset[0]\n",
    "                            tmpy = py + offset[1]\n",
    "                            if (tmpx >= rows) or (tmpy >= cols):\n",
    "                                continue\n",
    "                            if intensityData[tmpx][tmpy] >= 1:\n",
    "                                intensityData[tmpx][tmpy] = 0\n",
    "                                near.append(tuple((tmpx, tmpy)))\n",
    "\n",
    "                    bag.append(cluster)\n",
    "        #connect parts---\n",
    "        \n",
    "        #---make mark\n",
    "        self.clusters = []\n",
    "        for i in range(len(bag)):\n",
    "            if (len(bag[i]) > 20):\n",
    "                RM = RoadMarkings(bag[i])\n",
    "                self.clusters.append(RM)\n",
    "        #make mark---\n",
    "        \n",
    "        \n",
    "        #connect marks---\n",
    "\n",
    "        dashLine = []\n",
    "        crossWalk = []\n",
    "        \n",
    "        centers = np.array([rm.center for rm in self.clusters])\n",
    "        RMKD = cKDTree(centers ,leafsize = 30)\n",
    "        \n",
    "        \n",
    "        \n",
    "        self.__usedClusters = [False] * len(self.clusters)\n",
    "        \n",
    "        #cross walk\n",
    "        discovered = [False] * len(self.clusters)\n",
    "        \n",
    "        for i in range(len(discovered)):\n",
    "            if not discovered[i]:\n",
    "                discovered[i] = True\n",
    "                pending = [i]\n",
    "                group = []\n",
    "                while len(pending) > 0:\n",
    "                    current = pending.pop()\n",
    "                    if 20*0.065/self.size<self.clusters[current].length<90*0.065/self.size:\n",
    "                        if 1.5*0.065/self.size<self.clusters[current].width <10*0.065/self.size:\n",
    "                            #is line\n",
    "                            group.append(current)\n",
    "                            neighborIndex = set(RMKD.query_ball_point(centers[current], crossDistanceMax))\n",
    "                            without = set(RMKD.query_ball_point(centers[current], crossDistanceMin))\n",
    "                            neighborIndex = list(neighborIndex.difference(without))\n",
    "                            \n",
    "                            for j in range(0, len(neighborIndex)):\n",
    "                                cluID = neighborIndex[j]\n",
    "                                if not discovered[cluID]:\n",
    "                                    if 20*0.065/self.size<self.clusters[cluID].length<90*0.065/self.size:\n",
    "                                        if 1.5*0.065/self.size<self.clusters[cluID].width <10*0.065/self.size:\n",
    "                                            diff = (self.clusters[current].center - self.clusters[cluID].center)/   ((np.array(self.clusters[cluID].vec.T[1]) + np.array(self.clusters[current].vec.T[1]))/2)\n",
    "                                            #print(\"hmm\",diff)\n",
    "                                            if abs(diff[0]-diff[1]) <= crossDirectionThreshold:\n",
    "                                                pending.append(cluID)\n",
    "                                                discovered[cluID] = True\n",
    "                                else:\n",
    "                                    continue\n",
    "                if len(group) >= crossWalkThreshold:\n",
    "                    crossWalk.append(group)\n",
    "                    for idx in group:\n",
    "                        self.__usedClusters[idx] = True\n",
    "            else:\n",
    "                pass\n",
    "            \n",
    "        #dash line\n",
    "        discovered = np.array(self.__usedClusters)\n",
    "        \n",
    "        for i in range(len(discovered)):\n",
    "            if not discovered[i]:\n",
    "                discovered[i] = True\n",
    "                pending = [i]\n",
    "                group = []\n",
    "                while len(pending) > 0:\n",
    "                    current = pending.pop()\n",
    "                    if 20*0.065/self.size<self.clusters[current].length<60*0.065/self.size:\n",
    "                        if 1.5*0.065/self.size<self.clusters[current].width <10*0.065/self.size:\n",
    "                            #is line\n",
    "                            group.append(current)\n",
    "                            neighborIndex = set(RMKD.query_ball_point(centers[current], dashDistanceMax))\n",
    "                            without = set(RMKD.query_ball_point(centers[current], dashDistanceMin))\n",
    "                            neighborIndex = list(neighborIndex.difference(without))\n",
    "                            for j in range(0, len(neighborIndex)):\n",
    "                                cluID = neighborIndex[j]\n",
    "                                if not discovered[cluID]:\n",
    "                                    if 20*0.065/self.size<self.clusters[cluID].length<60*0.065/self.size:\n",
    "                                        if 1.5*0.065/self.size<self.clusters[cluID].width <10*0.065/self.size:\n",
    "                                            diff = (self.clusters[current].center - self.clusters[cluID].center)/   ((np.array(self.clusters[cluID].vec.T[0]) + np.array(self.clusters[current].vec.T[0]))/2)\n",
    "                                            if abs(diff[0]-diff[1]) <= straightDirectionThreshold:\n",
    "                                                pending.append(cluID)\n",
    "                                                discovered[cluID] = True\n",
    "                                else:\n",
    "                                    continue\n",
    "                if len(group) >= dashLineThreshold:\n",
    "                    dashLine.append(group)\n",
    "                    for idx in group:\n",
    "                        self.__usedClusters[idx] = True\n",
    "            else:\n",
    "                pass\n",
    "\n",
    "        \n",
    "        \n",
    "        #markings\n",
    "        markings = []\n",
    "        discovered = np.array(self.__usedClusters)\n",
    "        for i in range(len(discovered)):\n",
    "            if not discovered[i]:\n",
    "                discovered[i] = True\n",
    "                if 50*0.065/self.size<self.clusters[i].length<130*0.065/self.size:\n",
    "                    if 8*0.065/self.size<self.clusters[i].width <20*0.065/self.size:\n",
    "                        markings.append([i])\n",
    "                        self.__usedClusters[i] = True\n",
    "        \n",
    "        #smallDashLine\n",
    "        smallDashLine = []\n",
    "        discovered = np.array(self.__usedClusters)\n",
    "        for i in range(len(discovered)):\n",
    "            if not discovered[i]:\n",
    "                discovered[i] = True\n",
    "                pending = [i]\n",
    "                group = []\n",
    "                while len(pending) > 0:\n",
    "                    current = pending.pop()\n",
    "                    if 5*0.085/self.size<self.clusters[current].length<14*0.085/self.size:\n",
    "                        if 1.75*0.085/self.size<self.clusters[current].width <3.25*0.085/self.size:\n",
    "                            #is line\n",
    "                            group.append(current)\n",
    "                            neighborIndex = set(RMKD.query_ball_point(centers[current], smallDashDistanceMax))\n",
    "                            without = set(RMKD.query_ball_point(centers[current], smallDashDistanceMin))\n",
    "                            neighborIndex = list(neighborIndex.difference(without))\n",
    "                            for j in range(0, len(neighborIndex)):\n",
    "                                cluID = neighborIndex[j]\n",
    "                                if not discovered[cluID]:\n",
    "                                    if 5*0.085/self.size<self.clusters[cluID].length<14*0.085/self.size:\n",
    "                                        if 1.75*0.085/self.size<self.clusters[cluID].width <3.25*0.085/self.size:\n",
    "                                            diff = (self.clusters[current].center - self.clusters[cluID].center)/   ((np.array(self.clusters[cluID].vec.T[0]) + np.array(self.clusters[current].vec.T[0]))/2)\n",
    "                                            if abs(diff[0]-diff[1]) <= smallDashDirectionThreshold:\n",
    "                                                pending.append(cluID)\n",
    "                                                discovered[cluID] = True\n",
    "                                                print(self.clusters[current].val[0])\n",
    "                                else:\n",
    "                                    continue\n",
    "                if len(group) >= smallDashLineThreshold:\n",
    "                    smallDashLine.append(group)\n",
    "                    for idx in group:\n",
    "                        self.__usedClusters[idx] = True\n",
    "            else:\n",
    "                pass\n",
    "        \n",
    "        \n",
    "        \n",
    "        self.crossWalk = crossWalk\n",
    "        self.dashLine = dashLine\n",
    "        self.markings = markings\n",
    "        self.smallDashLine = smallDashLine\n",
    "        \n",
    "        \n",
    "        \n",
    "        \n",
    "        #---connect marks\n",
    "        "
   ]
  },
  {
   "cell_type": "code",
   "execution_count": null,
   "metadata": {},
   "outputs": [],
   "source": [
    "def point_in_hull(point, hull, tolerance=1e-12):\n",
    "    return all(\n",
    "        (np.dot(eq[:-1], point) + eq[-1] <= tolerance)\n",
    "        for eq in hull.equations)"
   ]
  },
  {
   "cell_type": "code",
   "execution_count": 6,
   "metadata": {},
   "outputs": [],
   "source": [
    "def gray_2_rgb(img):\n",
    "    \n",
    "    new_img = np.zeros((img.shape[0],img.shape[1],3))\n",
    "        \n",
    "    for i in range(img.shape[0]):\n",
    "        for k in range(img.shape[1]):\n",
    "            if img[i][k] >= 1:\n",
    "                new_img[i][k] = np.array([255,255,255])\n",
    "    \n",
    "    new_img = new_img.astype('uint8')\n",
    "    \n",
    "    return new_img\n"
   ]
  },
  {
   "cell_type": "code",
   "execution_count": 209,
   "metadata": {
    "scrolled": true
   },
   "outputs": [
    {
     "name": "stdout",
     "output_type": "stream",
     "text": [
      "building KDTree\n",
      "go\n",
      "1%\n",
      "2%\n",
      "3%\n",
      "4%\n",
      "5%\n",
      "6%\n",
      "7%\n",
      "8%\n",
      "9%\n",
      "10%\n",
      "11%\n",
      "12%\n",
      "13%\n",
      "14%\n",
      "15%\n",
      "16%\n",
      "17%\n",
      "18%\n",
      "19%\n",
      "20%\n",
      "21%\n",
      "22%\n",
      "23%\n",
      "24%\n",
      "25%\n",
      "26%\n",
      "27%\n",
      "28%\n",
      "29%\n",
      "30%\n",
      "31%\n",
      "32%\n",
      "33%\n",
      "34%\n",
      "35%\n",
      "36%\n",
      "37%\n",
      "38%\n",
      "39%\n",
      "40%\n",
      "41%\n",
      "42%\n",
      "43%\n",
      "44%\n",
      "45%\n",
      "46%\n",
      "47%\n",
      "48%\n",
      "49%\n",
      "50%\n",
      "51%\n",
      "52%\n",
      "53%\n",
      "54%\n",
      "55%\n",
      "56%\n",
      "57%\n",
      "58%\n",
      "59%\n",
      "60%\n",
      "61%\n",
      "62%\n",
      "63%\n",
      "64%\n",
      "65%\n",
      "66%\n",
      "67%\n",
      "68%\n",
      "69%\n",
      "70%\n",
      "71%\n",
      "72%\n",
      "73%\n",
      "74%\n",
      "75%\n",
      "76%\n",
      "77%\n",
      "78%\n",
      "79%\n",
      "80%\n",
      "81%\n",
      "82%\n",
      "83%\n",
      "84%\n",
      "85%\n",
      "86%\n",
      "87%\n",
      "88%\n",
      "89%\n",
      "90%\n",
      "91%\n",
      "92%\n",
      "93%\n",
      "94%\n",
      "95%\n",
      "96%\n",
      "97%\n",
      "98%\n",
      "99%\n"
     ]
    }
   ],
   "source": [
    "XYZI = np.genfromtxt(\"withGround06.csv\", delimiter=\",\", usecols=(0,1,2,3))\n",
    "with open('roadClassifier.pickle', 'rb') as f:\n",
    "    clf = pickle.load(f)\n",
    "highIntensityRoadPoints = getHighIntensityRoadPoints(XYZI, 190, clf)"
   ]
  },
  {
   "cell_type": "code",
   "execution_count": 212,
   "metadata": {},
   "outputs": [],
   "source": [
    "a = highIntensityRoadPoints.tolist()\n",
    "import csv as c\n",
    "with open(\"QQ.csv\",\"w\") as f:\n",
    "    writer = c.writer(f)\n",
    "    for i in range(len(a)):\n",
    "        writer.writerow(a[i])"
   ]
  },
  {
   "cell_type": "code",
   "execution_count": null,
   "metadata": {},
   "outputs": [],
   "source": []
  },
  {
   "cell_type": "code",
   "execution_count": 210,
   "metadata": {},
   "outputs": [],
   "source": [
    "#save\n",
    "with open(\"withGround06_highIntensityRoadPoints.pickle\", \"wb\") as f:\n",
    "    pickle.dump(highIntensityRoadPoints,f)"
   ]
  },
  {
   "cell_type": "code",
   "execution_count": 175,
   "metadata": {},
   "outputs": [],
   "source": [
    "with open(\"withGround01_highIntensityRoadPoints.pickle\", \"rb\") as f:\n",
    "    highIntensityRoadPoints = pickle.load(f)"
   ]
  },
  {
   "cell_type": "code",
   "execution_count": 251,
   "metadata": {},
   "outputs": [
    {
     "name": "stdout",
     "output_type": "stream",
     "text": [
      "0.9450071476982246\n",
      "0.9637293294433766\n",
      "0.9541220766327253\n",
      "0.9657096144200432\n",
      "0.9599622242158715\n",
      "0.9455343678369716\n",
      "0.948460251842527\n",
      "0.9685538969678346\n",
      "0.9614372023191882\n",
      "0.9604713784180046\n",
      "0.9547852388656614\n",
      "0.954198845277031\n",
      "0.9582965649914981\n",
      "0.9500970097103609\n",
      "0.9571646779127737\n",
      "0.9545167196064163\n",
      "0.9149356439545278\n",
      "0.9473544422357595\n",
      "0.9528467980159698\n",
      "0.940687774893138\n",
      "0.9384925253227174\n",
      "0.9406174204813842\n",
      "0.9161227465459711\n",
      "0.9234527728247514\n",
      "0.9399484898644807\n",
      "0.9517227710022174\n",
      "0.9594497646232951\n",
      "0.9666436643190776\n",
      "0.9689245239418857\n",
      "0.9637618588352586\n",
      "0.9591128497263232\n",
      "0.9563573094744464\n",
      "0.945809422911115\n",
      "0.9401399591473436\n",
      "0.9604402234247299\n",
      "0.9346767852045172\n"
     ]
    }
   ],
   "source": [
    "b = Pixel(highIntensityRoadPoints)\n",
    "q = b.clusters"
   ]
  },
  {
   "cell_type": "code",
   "execution_count": 239,
   "metadata": {},
   "outputs": [
    {
     "data": {
      "text/plain": [
       "[[13], [22], [24], [27], [30], [35], [40], [94]]"
      ]
     },
     "execution_count": 239,
     "metadata": {},
     "output_type": "execute_result"
    }
   ],
   "source": [
    "b.markings"
   ]
  },
  {
   "cell_type": "code",
   "execution_count": 252,
   "metadata": {},
   "outputs": [
    {
     "data": {
      "text/plain": [
       "[[8, 14, 19], [11, 17], [39, 44]]"
      ]
     },
     "execution_count": 252,
     "metadata": {},
     "output_type": "execute_result"
    }
   ],
   "source": [
    "b.crossWalk\n"
   ]
  },
  {
   "cell_type": "code",
   "execution_count": 241,
   "metadata": {},
   "outputs": [
    {
     "data": {
      "text/plain": [
       "[]"
      ]
     },
     "execution_count": 241,
     "metadata": {},
     "output_type": "execute_result"
    }
   ],
   "source": [
    "b.dashLine"
   ]
  },
  {
   "cell_type": "code",
   "execution_count": 242,
   "metadata": {},
   "outputs": [
    {
     "data": {
      "text/plain": [
       "[[18, 21, 25, 29, 31, 36, 41, 47, 49, 52, 54, 56, 58, 61, 64],\n",
       " [37, 38, 43, 45, 48, 50, 51, 53, 55, 57, 59, 63, 67],\n",
       " [60, 62],\n",
       " [70, 74, 78, 82],\n",
       " [73, 77, 81, 83, 85, 87],\n",
       " [75, 79]]"
      ]
     },
     "execution_count": 242,
     "metadata": {},
     "output_type": "execute_result"
    }
   ],
   "source": [
    "b.smallDashLine"
   ]
  },
  {
   "cell_type": "code",
   "execution_count": 229,
   "metadata": {},
   "outputs": [
    {
     "name": "stdout",
     "output_type": "stream",
     "text": [
      "[[ 0.6975235  -0.71656191]\n",
      " [-0.71656191 -0.6975235 ]]\n",
      "[[ 0.87632279 -0.48172436]\n",
      " [ 0.48172436  0.87632279]]\n",
      "[[ 0.75365112 -0.65727467]\n",
      " [ 0.65727467  0.75365112]]\n",
      "[[ 0.71018356  0.70401656]\n",
      " [-0.70401656  0.71018356]]\n",
      "[[ 0.75319888  0.65779286]\n",
      " [-0.65779286  0.75319888]]\n",
      "[[ 0.86451597 -0.50260535]\n",
      " [ 0.50260535  0.86451597]]\n",
      "[[ 0.79829934  0.60226087]\n",
      " [-0.60226087  0.79829934]]\n",
      "[[ 0.82088765  0.57108972]\n",
      " [-0.57108972  0.82088765]]\n",
      "[[ 0.89013956  0.455688  ]\n",
      " [-0.455688    0.89013956]]\n"
     ]
    }
   ],
   "source": [
    "for i in [73, 79, 75, 77, 81, 84, 83, 85, 87]:\n",
    "    print(b.clusters[i].vec)"
   ]
  },
  {
   "cell_type": "code",
   "execution_count": null,
   "metadata": {},
   "outputs": [],
   "source": []
  },
  {
   "cell_type": "code",
   "execution_count": 195,
   "metadata": {},
   "outputs": [
    {
     "data": {
      "text/plain": [
       "10.43551627855565"
      ]
     },
     "execution_count": 195,
     "metadata": {},
     "output_type": "execute_result"
    }
   ],
   "source": [
    "b.clusters[1].length"
   ]
  },
  {
   "cell_type": "code",
   "execution_count": null,
   "metadata": {},
   "outputs": [],
   "source": []
  },
  {
   "cell_type": "code",
   "execution_count": 189,
   "metadata": {
    "scrolled": true
   },
   "outputs": [
    {
     "name": "stdout",
     "output_type": "stream",
     "text": [
      "26.27327490232734 7.6300469579361625\n",
      "10.43551627855565 2.5298221281347026\n",
      "10.666987174671934 2.852798895551797\n",
      "7.060180864974622 5.883484054145525\n",
      "9.986876634765906 2.432700718725017\n",
      "10.606601717798219 2.1213203435596526\n",
      "8.48528137423857 2.8284271247462103\n",
      "10.261953630166746 2.773500981126134\n",
      "10.28591269649902 2.683281572999754\n",
      "8.944271909999133 2.683281572999735\n",
      "8.731282501307984 2.667891875399649\n",
      "8.538149682454593 2.21359436211787\n",
      "8.854377448471471 2.2135943621178655\n",
      "7.452413135251007 2.5495097567963922\n",
      "9.217458351494628 2.3533936216581917\n",
      "7.800000000000011 2.4000000000000283\n",
      "7.7781745930520225 2.1213203435596424\n"
     ]
    }
   ],
   "source": [
    "for i in range(len(b._Pixel__usedClusters)):\n",
    "    if not (b._Pixel__usedClusters[i]):\n",
    "        print(b.clusters[i].length, b.clusters[i].width)\n"
   ]
  },
  {
   "cell_type": "code",
   "execution_count": 26,
   "metadata": {},
   "outputs": [
    {
     "data": {
      "text/plain": [
       "(77.04800140527941, 12.248119788610996)"
      ]
     },
     "execution_count": 26,
     "metadata": {},
     "output_type": "execute_result"
    }
   ],
   "source": [
    "a =b.clusters[6]\n",
    "a.length,a.width"
   ]
  },
  {
   "cell_type": "code",
   "execution_count": 243,
   "metadata": {},
   "outputs": [
    {
     "data": {
      "text/plain": [
       "[[18, 21, 25, 29, 31, 36, 41, 47, 49, 52, 54, 56, 58, 61, 64],\n",
       " [37, 38, 43, 45, 48, 50, 51, 53, 55, 57, 59, 63, 67],\n",
       " [60, 62],\n",
       " [70, 74, 78, 82],\n",
       " [73, 77, 81, 83, 85, 87],\n",
       " [75, 79]]"
      ]
     },
     "execution_count": 243,
     "metadata": {},
     "output_type": "execute_result"
    }
   ],
   "source": [
    "b.smallDashLine"
   ]
  },
  {
   "cell_type": "code",
   "execution_count": 244,
   "metadata": {},
   "outputs": [],
   "source": [
    "tmp=[]\n",
    "for i in range(len(b.smallDashLine)):\n",
    "    with open(str(i)+\"smallD.csv\",\"w\",newline=\"\") as f:\n",
    "        wr = c.writer(f)\n",
    "        for idx in b.smallDashLine[i]:\n",
    "            a = b.clusters[idx].points.tolist()\n",
    "            for aa in a:\n",
    "                wr.writerow(aa)"
   ]
  },
  {
   "cell_type": "code",
   "execution_count": 246,
   "metadata": {},
   "outputs": [],
   "source": [
    "tmp=[]\n",
    "for i in range(len(b._Pixel__usedClusters)):\n",
    "    if not (b._Pixel__usedClusters[i]):\n",
    "        with open(str(i)+\"remain.csv\",\"w\",newline=\"\") as f:\n",
    "            wr = c.writer(f)\n",
    "            for pt in b.clusters[i].points:\n",
    "                wr.writerow(pt.tolist())"
   ]
  },
  {
   "cell_type": "code",
   "execution_count": null,
   "metadata": {},
   "outputs": [],
   "source": []
  },
  {
   "cell_type": "code",
   "execution_count": 254,
   "metadata": {},
   "outputs": [],
   "source": [
    "tmp=[]\n",
    "for i in range(len(b._Pixel__usedClusters)):\n",
    "    if not (b._Pixel__usedClusters[i]):\n",
    "        for pt in b.clusters[i].points:\n",
    "            tmp.append(pt.tolist())\n",
    "import csv as c\n",
    "with open(\"remain.csv\",\"w\",newline=\"\") as f:\n",
    "    wr = c.writer(f)\n",
    "    for i in range(len(tmp)):\n",
    "        wr.writerow(tmp[i])"
   ]
  },
  {
   "cell_type": "code",
   "execution_count": 219,
   "metadata": {},
   "outputs": [],
   "source": [
    "#save markings\n",
    "tmp = []\n",
    "for i in b.markings:\n",
    "    for j in i:\n",
    "        tmp += b.clusters[j].points.tolist()\n",
    "import csv as c\n",
    "with open(\"tr3markings.csv\",\"w\")as f:\n",
    "    wr = c.writer(f)\n",
    "    for i in range(len(tmp)):\n",
    "        wr.writerow(tmp[i])"
   ]
  },
  {
   "cell_type": "code",
   "execution_count": 253,
   "metadata": {},
   "outputs": [],
   "source": [
    "#save crosswalk\n",
    "tmp = []\n",
    "for i in b.crossWalk:\n",
    "    for j in i:\n",
    "        tmp += b.clusters[j].points.tolist()\n",
    "import csv as c\n",
    "with open(\"tr3cross.csv\",\"w\")as f:\n",
    "    wr = c.writer(f)\n",
    "    for i in range(len(tmp)):\n",
    "        wr.writerow(tmp[i])"
   ]
  },
  {
   "cell_type": "code",
   "execution_count": 221,
   "metadata": {},
   "outputs": [],
   "source": [
    "#save dashline\n",
    "tmp = []\n",
    "for i in b.dashLine:\n",
    "    for j in i:\n",
    "        tmp += b.clusters[j].points.tolist()\n",
    "import csv as c\n",
    "with open(\"tr3straight.csv\",\"w\")as f:\n",
    "    wr = c.writer(f)\n",
    "    for i in range(len(tmp)):\n",
    "        wr.writerow(tmp[i])"
   ]
  },
  {
   "cell_type": "code",
   "execution_count": 222,
   "metadata": {},
   "outputs": [],
   "source": [
    "#save smalldashline\n",
    "tmp = []\n",
    "for i in b.smallDashLine:\n",
    "    for j in i:\n",
    "        tmp += b.clusters[j].points.tolist()\n",
    "import csv as c\n",
    "with open(\"tr3smallDash.csv\",\"w\")as f:\n",
    "    wr = c.writer(f)\n",
    "    for i in range(len(tmp)):\n",
    "        wr.writerow(tmp[i])"
   ]
  },
  {
   "cell_type": "code",
   "execution_count": 143,
   "metadata": {},
   "outputs": [],
   "source": [
    "#save roadmarkings\n",
    "tmp = []\n",
    "for rm in b.clusters:\n",
    "    for i in range(len(rm.points)):\n",
    "        tmp.append(rm.points[i])\n",
    "import csv as c\n",
    "with open(\"rms.csv\",\"w\")as f:\n",
    "    wr = c.writer(f)\n",
    "    for i in range(len(tmp)):\n",
    "        wr.writerow(tmp[i])\n",
    "    \n"
   ]
  },
  {
   "cell_type": "code",
   "execution_count": null,
   "metadata": {},
   "outputs": [],
   "source": []
  },
  {
   "cell_type": "code",
   "execution_count": null,
   "metadata": {},
   "outputs": [],
   "source": []
  },
  {
   "cell_type": "code",
   "execution_count": null,
   "metadata": {},
   "outputs": [],
   "source": []
  },
  {
   "cell_type": "code",
   "execution_count": 179,
   "metadata": {},
   "outputs": [],
   "source": [
    "rgb = gray_2_rgb(b.pixels)\n",
    "Image.fromarray(rgb).save(\"QQ.png\")"
   ]
  },
  {
   "cell_type": "code",
   "execution_count": null,
   "metadata": {},
   "outputs": [],
   "source": []
  },
  {
   "cell_type": "code",
   "execution_count": 94,
   "metadata": {},
   "outputs": [
    {
     "name": "stdout",
     "output_type": "stream",
     "text": [
      "43.909761034352705\n",
      "49.798727843165715\n",
      "45.10671108178235\n"
     ]
    }
   ],
   "source": [
    "tmp = []\n",
    "cc = 0\n",
    "for roadmark in q:\n",
    "    cc+= 1\n",
    "    if 20<roadmark.length <60:\n",
    "        \n",
    "        if 1.5<roadmark.width <10:\n",
    "            r = roadmark.points.tolist()\n",
    "            for point in r:\n",
    "                point += [0,255,255,0]\n",
    "            tmp += r\n",
    "#     if 35<roadmark.length <60:\n",
    "#         if 5<roadmark.width <10:\n",
    "#             r = roadmark.points.tolist()\n",
    "#             for point in r:\n",
    "#                 point += [0,110,255,135]\n",
    "#             tmp += r\n",
    "            "
   ]
  },
  {
   "cell_type": "code",
   "execution_count": 92,
   "metadata": {},
   "outputs": [],
   "source": [
    "import csv as c\n",
    "with open(\"tr.csv\",\"w\")as f:\n",
    "    wr = c.writer(f)\n",
    "    for i in range(len(tmp)):\n",
    "        wr.writerow(tmp[i])"
   ]
  },
  {
   "cell_type": "code",
   "execution_count": 54,
   "metadata": {},
   "outputs": [
    {
     "name": "stdout",
     "output_type": "stream",
     "text": [
      "[[ 0.98427515 -0.17664212]\n",
      " [ 0.17664212  0.98427515]]\n",
      "[[ 0.98302295 -0.18348265]\n",
      " [ 0.18348265  0.98302295]]\n",
      "[[ 0.98112743 -0.19336229]\n",
      " [ 0.19336229  0.98112743]]\n"
     ]
    }
   ],
   "source": [
    "#straight\n",
    "for i in range(3):\n",
    "    print(q[i].vec)"
   ]
  },
  {
   "cell_type": "code",
   "execution_count": 65,
   "metadata": {},
   "outputs": [
    {
     "name": "stdout",
     "output_type": "stream",
     "text": [
      "[[ 0.15497479 -0.98791842]\n",
      " [-0.98791842 -0.15497479]]\n",
      "[[ 0.16243637 -0.98671902]\n",
      " [-0.98671902 -0.16243637]]\n",
      "[[ 0.14934165 -0.98878566]\n",
      " [-0.98878566 -0.14934165]]\n"
     ]
    }
   ],
   "source": [
    "#cross\n",
    "for i in range(3):\n",
    "    print(q[i].vec)"
   ]
  },
  {
   "cell_type": "code",
   "execution_count": 66,
   "metadata": {},
   "outputs": [
    {
     "name": "stdout",
     "output_type": "stream",
     "text": [
      "[ 6.14563107 21.49838188]\n",
      "[24.04040404 24.51515152]\n",
      "[42.36567164 27.58955224]\n"
     ]
    }
   ],
   "source": [
    "for i in range(3):\n",
    "    print(q[i].center)"
   ]
  }
 ],
 "metadata": {
  "kernelspec": {
   "display_name": "Python 3",
   "language": "python",
   "name": "python3"
  },
  "language_info": {
   "codemirror_mode": {
    "name": "ipython",
    "version": 3
   },
   "file_extension": ".py",
   "mimetype": "text/x-python",
   "name": "python",
   "nbconvert_exporter": "python",
   "pygments_lexer": "ipython3",
   "version": "3.6.5"
  },
  "widgets": {
   "state": {},
   "version": "1.1.2"
  }
 },
 "nbformat": 4,
 "nbformat_minor": 2
}
