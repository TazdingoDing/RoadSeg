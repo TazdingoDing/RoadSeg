{
 "cells": [
  {
   "cell_type": "code",
   "execution_count": 1,
   "metadata": {},
   "outputs": [],
   "source": [
    "from scipy.spatial import cKDTree\n",
    "import numpy as np\n",
    "import pickle\n",
    "import time\n",
    "from PIL import Image\n",
    "from scipy.spatial import ConvexHull"
   ]
  },
  {
   "cell_type": "code",
   "execution_count": 2,
   "metadata": {},
   "outputs": [],
   "source": [
    "def getEigenN(matrix):\n",
    "    cov = np.cov(matrix.T)\n",
    "    val, vec = np.linalg.eig(cov)\n",
    "    srt = val.argsort()[::-1]\n",
    "    val = val[srt]\n",
    "    vec = vec[:,srt]\n",
    "    if (val[2] < 0):\n",
    "        val[2] = 0\n",
    "    val = val/sum(val)\n",
    "    return val, vec"
   ]
  },
  {
   "cell_type": "code",
   "execution_count": 3,
   "metadata": {},
   "outputs": [],
   "source": [
    "def getHighIntensityRoadPoints(data, threshold, clf):\n",
    "    XYZ = data[:,0:3]\n",
    "    print(\"building KDTree\")\n",
    "    XYZKD = cKDTree(XYZ, leafsize=30)\n",
    "    features = []\n",
    "    roadIndex = []\n",
    "    \n",
    "\n",
    "    p1 = data.shape[0]/100\n",
    "    p2 = 0\n",
    "    #t1 = time.time()\n",
    "    #t2 = time.time()\n",
    "    print(\"go\")\n",
    "    \n",
    "    for i in range(data.shape[0]):\n",
    "        #intensity index\n",
    "        if (data[i][3] >= 190):\n",
    "            neighborIndex = XYZKD.query_ball_point(XYZ[i], 1)\n",
    "            if len(neighborIndex) >= 3:\n",
    "                neighbors = XYZ[neighborIndex]\n",
    "                val, vec = getEigenN(neighbors)\n",
    "                vec = vec.T\n",
    "                EV1, EV2, EV3 = val[0],val[1],val[2]\n",
    "                VT1, VT2, VT3 = vec[0],vec[1],vec[2]\n",
    "        \n",
    "                for j in range(3):\n",
    "                    VT3[j] = abs(VT3[j])\n",
    "                vertical = -(VT3[2]/sum(VT3) - 1)\n",
    "                \n",
    "                feature = [(EV1-EV2)/EV1, (EV2-EV3)/EV1, EV3/EV1, vertical]\n",
    "                features.append(feature)\n",
    "                roadIndex.append(i)\n",
    "        \n",
    "        if (i > p1):\n",
    "            p1 += data.shape[0]/100\n",
    "            p2 += 1\n",
    "            print(str(p2)+\"%\")\n",
    "        \n",
    "        \n",
    "    results = clf.predict(features)\n",
    "    XYZIIndexes = []\n",
    "    for i in range(len(results)):\n",
    "        if (results[i] == 1):\n",
    "            XYZIIndexes.append(roadIndex[i])\n",
    "    return data[XYZIIndexes]"
   ]
  },
  {
   "cell_type": "code",
   "execution_count": 51,
   "metadata": {},
   "outputs": [],
   "source": [
    "class RoadMarkings():\n",
    "    points = None\n",
    "    length = None\n",
    "    width = None\n",
    "    area = None\n",
    "    vec = None\n",
    "    val = None\n",
    "    center = None\n",
    "    def __init__(self, points):\n",
    "        if type(points) != np.ndarray:\n",
    "            self.points = np.array(points)\n",
    "        else:\n",
    "            self.points = points\n",
    "        self.__setProperties()\n",
    "    \n",
    "    \n",
    "    def __setProperties(self):\n",
    "        rec, area = self.__minimumBoundingRectangle(self.points)\n",
    "        edges = []\n",
    "        for i in range(1,4):\n",
    "            edges.append(np.linalg.norm(rec[0]-rec[i]))\n",
    "        edges.sort()\n",
    "        self.width = edges[0]\n",
    "        self.length = edges[1]\n",
    "        self.area = area\n",
    "        self.val, self.vec = self.getEigenN(self.points)\n",
    "        self.center = np.average(self.points, axis=0)\n",
    "        \n",
    "    def getEigenN(self, matrix):\n",
    "        cov = np.cov(matrix.T)\n",
    "        val, vec = np.linalg.eig(cov)\n",
    "        srt = val.argsort()[::-1]\n",
    "        val = val[srt]\n",
    "        vec = vec[:,srt]\n",
    "\n",
    "        if (val[1] < 0):\n",
    "            val[1] = 0\n",
    "        val = val/sum(val)\n",
    "    \n",
    "    \n",
    "    \n",
    "        return val, vec\n",
    "    \n",
    "    def __minimumBoundingRectangle(self, points):\n",
    "        \n",
    "        from scipy.ndimage.interpolation import rotate\n",
    "        pi2 = np.pi/2.\n",
    "\n",
    "        # get the convex hull for the points\n",
    "        conv = ConvexHull(points)\n",
    "        hull_points = points[conv.vertices]\n",
    "\n",
    "        # calculate edge angles\n",
    "        edges = np.zeros((len(hull_points)-1, 2))\n",
    "        edges = hull_points[1:] - hull_points[:-1]\n",
    "\n",
    "        angles = np.zeros((len(edges)))\n",
    "        angles = np.arctan2(edges[:, 1], edges[:, 0])\n",
    "\n",
    "        angles = np.abs(np.mod(angles, pi2))\n",
    "        angles = np.unique(angles)\n",
    "\n",
    "        # find rotation matrices\n",
    "        # XXX both work\n",
    "        rotations = np.vstack([\n",
    "            np.cos(angles),\n",
    "            np.cos(angles-pi2),\n",
    "            np.cos(angles+pi2),\n",
    "            np.cos(angles)]).T\n",
    "        #     rotations = np.vstack([\n",
    "        #         np.cos(angles),\n",
    "        #         -np.sin(angles),\n",
    "        #         np.sin(angles),\n",
    "        #         np.cos(angles)]).T\n",
    "        rotations = rotations.reshape((-1, 2, 2))\n",
    "\n",
    "        # apply rotations to the hull\n",
    "        rot_points = np.dot(rotations, hull_points.T)\n",
    "\n",
    "        # find the bounding points\n",
    "        min_x = np.nanmin(rot_points[:, 0], axis=1)\n",
    "        max_x = np.nanmax(rot_points[:, 0], axis=1)\n",
    "        min_y = np.nanmin(rot_points[:, 1], axis=1)\n",
    "        max_y = np.nanmax(rot_points[:, 1], axis=1)\n",
    "\n",
    "        # find the box with the best area\n",
    "        areas = (max_x - min_x) * (max_y - min_y)\n",
    "        best_idx = np.argmin(areas)\n",
    "\n",
    "        # return the best box\n",
    "        x1 = max_x[best_idx]\n",
    "        x2 = min_x[best_idx]\n",
    "        y1 = max_y[best_idx]\n",
    "        y2 = min_y[best_idx]\n",
    "        r = rotations[best_idx]\n",
    "\n",
    "        rval = np.zeros((4, 2))\n",
    "        rval[0] = np.dot([x1, y2], r)\n",
    "        rval[1] = np.dot([x2, y2], r)\n",
    "        rval[2] = np.dot([x2, y1], r)\n",
    "        rval[3] = np.dot([x1, y1], r)\n",
    "\n",
    "        return rval, conv.area"
   ]
  },
  {
   "cell_type": "code",
   "execution_count": 5,
   "metadata": {},
   "outputs": [],
   "source": [
    "class Pixel():\n",
    "    #size of each pixel\n",
    "    size = None\n",
    "    #raw input numpy array (n * m)\n",
    "    rawData = None\n",
    "    #translated numpy array (3 * n), minimal value = 0\n",
    "    __translatedData = None\n",
    "    #min, max and range of x, y and z\n",
    "    shapes = None\n",
    "    #range of x, y and z\n",
    "    ranges = None\n",
    "    #voxelized input data (numpy array xRange * yRange * zRange)\n",
    "    pixels = None\n",
    "    #a list of indexes of rawData\n",
    "    __pointsList = None\n",
    "    #cluster data\n",
    "    clusters = None\n",
    "\n",
    "    \n",
    "    def __init__(self, rawData, size = 0.065, withKDTree = False):\n",
    "        self.rawData = rawData\n",
    "        self.size = size\n",
    "        self.__getNewShapes()\n",
    "        self.pixels = np.zeros(self.ranges[0:2])\n",
    "        self.__pointsList = self.__makeList(self.pixels.size)\n",
    "        self.__loadDataIndexToPointsList()\n",
    "        self.__loadPointsListToPixels(threshold = 0)\n",
    "        self.__cluster()\n",
    "    def __getNewShapes(self):\n",
    "        data = np.copy(self.rawData[:,0:3].T)\n",
    "        maxXYZ = [np.amax(data[i]) for i in range(3)]\n",
    "        minXYZ = [np.amin(data[i]) for i in range(3)]\n",
    "        rangeXYZ = [int(maxXYZ[i]/self.size) - int(minXYZ[i]/self.size) + 1 for i in range(3)]\n",
    "        \n",
    "        self.ranges = rangeXYZ\n",
    "        self.__translatedData = np.array([data[i] - minXYZ[i] for i in range(3)])\n",
    "        self.shapes = {\"xMax\": maxXYZ[0], \"yMax\": maxXYZ[1], \"zMax\": maxXYZ[2],\n",
    "                      \"xMin\": minXYZ[0], \"yMin\": minXYZ[1], \"zMin\": minXYZ[2], \n",
    "                      \"x_range\": rangeXYZ[0], \"y_range\": rangeXYZ[1], \"z_range\": rangeXYZ[2]}\n",
    "    def __makeList(self, length):\n",
    "        return [None] * length\n",
    "    def __getPointsListIndexFromIJ(self, i, j):\n",
    "        y_r = self.ranges[1]\n",
    "        return i * y_r + j\n",
    "    \n",
    "    \n",
    "    def __loadDataIndexToPointsList(self):\n",
    "        scaledData = self.__translatedData / self.size\n",
    "        \n",
    "        #shape[1]: number of points\n",
    "        for i in range(self.__translatedData.shape[1]):\n",
    "            I, J = [int(scaledData[j][i]) for j in range(2)]\n",
    "            #print([scaledData[j][i] for j in range(3)])\n",
    "            index = self.__getPointsListIndexFromIJ(I, J)\n",
    "            if not self.__pointsList[index]:\n",
    "                self.__pointsList[index] = list()\n",
    "            self.__pointsList[index].append(i)\n",
    "            \n",
    "    def __loadPointsListToPixels(self, threshold = 3):\n",
    "        for vi in range(len(self.__pointsList)):\n",
    "            if self.__pointsList[vi]:\n",
    "                pointsInside = len(self.__pointsList[vi])\n",
    "                if (pointsInside > threshold):\n",
    "                    i, j = self.__getIJFromPointsListIndex(vi)\n",
    "                    self.pixels[i][j] = pointsInside\n",
    "    def __getIJFromPointsListIndex(self, index):\n",
    "        y_r = self.ranges[1]\n",
    "        i, j = divmod(index, y_r)\n",
    "        return i, j\n",
    "    def __cluster(self):\n",
    "        #18.xxxx\n",
    "        markDistance = 22\n",
    "        \n",
    "        \n",
    "        \n",
    "        rows = self.ranges[0]\n",
    "        cols = self.ranges[1]\n",
    "\n",
    "        bag = []\n",
    "        kernel = [(0,-2),(0,-1),(0,1),(0,2),(-1,-1),(-1,0),(-1,1),(1,-1),(1,0),(1,1),(-2,0),(2,0)]\n",
    "        intensityData = np.copy(self.pixels)\n",
    "        \n",
    "        #---connect parts\n",
    "        for i in range(2, rows - 2):\n",
    "            for j in range(2, cols - 2):\n",
    "\n",
    "                if (intensityData[i][j] >= 1):\n",
    "                    cluster = []\n",
    "                    near = [(i, j)]\n",
    "                    while(len(near) != 0):\n",
    "                        point = near.pop()\n",
    "                        cluster.append(point)\n",
    "                        px, py = point\n",
    "                        intensityData[px][py] = 0\n",
    "                        for offset in kernel:\n",
    "                            tmpx = px + offset[0]\n",
    "                            tmpy = py + offset[1]\n",
    "                            if (tmpx >= rows) or (tmpy >= cols):\n",
    "                                continue\n",
    "                            if intensityData[tmpx][tmpy] >= 1:\n",
    "                                intensityData[tmpx][tmpy] = 0\n",
    "                                near.append(tuple((tmpx, tmpy)))\n",
    "\n",
    "                    bag.append(cluster)\n",
    "        #connect parts---\n",
    "        \n",
    "        #---make mark\n",
    "        self.clusters = []\n",
    "        for i in range(len(bag)):\n",
    "            if (len(bag[i]) > 15):\n",
    "                RM = RoadMarkings(bag[i])\n",
    "                self.clusters.append(RM)\n",
    "        #make mark---\n",
    "        \n",
    "        \n",
    "        #connect marks---\n",
    "        dashLine = []\n",
    "        crossWalk = []\n",
    "        \n",
    "        centers = np.array([rm.center for rm in self.clusters])\n",
    "        RMKD = cKDTree(centers ,leafsize = 30)\n",
    "        discovered = [False] * len(self.clusters)\n",
    "        for i in range(len(discovered)):\n",
    "            if not discovered[i]:\n",
    "                discovered[i] = True\n",
    "                if 20<self.clusters[i].length<60:\n",
    "                    if 1.5<self.clusters[i].width <10:            \n",
    "                        neighborIndex = RMKD.query_ball_point(centers[i], markDistance)\n",
    "                        \n",
    "                \n",
    "            else:\n",
    "                pass\n",
    "        \n",
    "        \n",
    "        \n",
    "        \n",
    "        \n",
    "        if 20<roadmark.length <60:\n",
    "            if 1.5<roadmark.width <10:\n",
    "            r = roadmark.points.tolist()\n",
    "            for point in r:\n",
    "                point += [0,255,255,0]\n",
    "            tmp += r\n",
    "            \n",
    "            \n",
    "        (q[1].center - q[0].center)/np.array(q[0].vec.T[1])\n",
    "\n",
    "        #---connect marks\n",
    "        "
   ]
  },
  {
   "cell_type": "code",
   "execution_count": null,
   "metadata": {},
   "outputs": [],
   "source": [
    "def point_in_hull(point, hull, tolerance=1e-12):\n",
    "    return all(\n",
    "        (np.dot(eq[:-1], point) + eq[-1] <= tolerance)\n",
    "        for eq in hull.equations)"
   ]
  },
  {
   "cell_type": "code",
   "execution_count": null,
   "metadata": {},
   "outputs": [],
   "source": []
  },
  {
   "cell_type": "code",
   "execution_count": null,
   "metadata": {},
   "outputs": [],
   "source": []
  },
  {
   "cell_type": "code",
   "execution_count": null,
   "metadata": {},
   "outputs": [],
   "source": []
  },
  {
   "cell_type": "code",
   "execution_count": 6,
   "metadata": {},
   "outputs": [],
   "source": [
    "def gray_2_rgb(img):\n",
    "    \n",
    "    new_img = np.zeros((img.shape[0],img.shape[1],3))\n",
    "        \n",
    "    for i in range(img.shape[0]):\n",
    "        for k in range(img.shape[1]):\n",
    "            if img[i][k] >= 1:\n",
    "                new_img[i][k] = np.array([255,255,255])\n",
    "    \n",
    "    new_img = new_img.astype('uint8')\n",
    "    \n",
    "    return new_img\n"
   ]
  },
  {
   "cell_type": "code",
   "execution_count": 63,
   "metadata": {
    "scrolled": true
   },
   "outputs": [
    {
     "name": "stdout",
     "output_type": "stream",
     "text": [
      "building KDTree\n",
      "go\n",
      "1%\n",
      "2%\n",
      "3%\n",
      "4%\n",
      "5%\n",
      "6%\n",
      "7%\n",
      "8%\n",
      "9%\n",
      "10%\n",
      "11%\n",
      "12%\n",
      "13%\n",
      "14%\n",
      "15%\n",
      "16%\n",
      "17%\n",
      "18%\n",
      "19%\n",
      "20%\n",
      "21%\n",
      "22%\n",
      "23%\n",
      "24%\n",
      "25%\n",
      "26%\n",
      "27%\n",
      "28%\n",
      "29%\n",
      "30%\n",
      "31%\n",
      "32%\n",
      "33%\n",
      "34%\n",
      "35%\n",
      "36%\n",
      "37%\n",
      "38%\n",
      "39%\n",
      "40%\n",
      "41%\n",
      "42%\n",
      "43%\n",
      "44%\n",
      "45%\n",
      "46%\n",
      "47%\n",
      "48%\n",
      "49%\n",
      "50%\n",
      "51%\n",
      "52%\n",
      "53%\n",
      "54%\n",
      "55%\n",
      "56%\n",
      "57%\n",
      "58%\n",
      "59%\n",
      "60%\n",
      "61%\n",
      "62%\n",
      "63%\n",
      "64%\n",
      "65%\n",
      "66%\n",
      "67%\n",
      "68%\n",
      "69%\n",
      "70%\n",
      "71%\n",
      "72%\n",
      "73%\n",
      "74%\n",
      "75%\n",
      "76%\n",
      "77%\n",
      "78%\n",
      "79%\n",
      "80%\n",
      "81%\n",
      "82%\n",
      "83%\n",
      "84%\n",
      "85%\n",
      "86%\n",
      "87%\n",
      "88%\n",
      "89%\n",
      "90%\n",
      "91%\n",
      "92%\n",
      "93%\n",
      "94%\n",
      "95%\n",
      "96%\n",
      "97%\n",
      "98%\n",
      "99%\n"
     ]
    }
   ],
   "source": [
    "XYZI = np.genfromtxt(\"cross.csv\", delimiter=\",\", usecols=(0,1,2,3))\n",
    "with open('roadClassifier.pickle', 'rb') as f:\n",
    "    clf = pickle.load(f)\n",
    "highIntensityRoadPoints = getHighIntensityRoadPoints(XYZI, 190, clf)"
   ]
  },
  {
   "cell_type": "code",
   "execution_count": 14,
   "metadata": {},
   "outputs": [],
   "source": [
    "a = highIntensityRoadPoints.tolist()\n",
    "import csv as c\n",
    "with open(\"QQ.csv\",\"w\") as f:\n",
    "    writer = c.writer(f)\n",
    "    for i in range(len(a)):\n",
    "        writer.writerow(a[i])"
   ]
  },
  {
   "cell_type": "code",
   "execution_count": 64,
   "metadata": {},
   "outputs": [],
   "source": [
    "b = Pixel(highIntensityRoadPoints)\n",
    "q = b.clusters"
   ]
  },
  {
   "cell_type": "code",
   "execution_count": 179,
   "metadata": {},
   "outputs": [],
   "source": [
    "rgb = gray_2_rgb(b.pixels)\n",
    "Image.fromarray(rgb).save(\"QQ.png\")"
   ]
  },
  {
   "cell_type": "code",
   "execution_count": null,
   "metadata": {},
   "outputs": [],
   "source": []
  },
  {
   "cell_type": "code",
   "execution_count": 17,
   "metadata": {},
   "outputs": [],
   "source": [
    "tmp = []\n",
    "for roadmark in q:\n",
    "    if 20<roadmark.length <55:\n",
    "        if 1.5<roadmark.width <5:\n",
    "            r = roadmark.points.tolist()\n",
    "            for point in r:\n",
    "                point += [0,255,255,0]\n",
    "            tmp += r\n",
    "    if 35<roadmark.length <60:\n",
    "        if 5<roadmark.width <10:\n",
    "            r = roadmark.points.tolist()\n",
    "            for point in r:\n",
    "                point += [0,110,255,135]\n",
    "            tmp += r\n",
    "            "
   ]
  },
  {
   "cell_type": "code",
   "execution_count": 18,
   "metadata": {},
   "outputs": [],
   "source": [
    "import csv as c\n",
    "with open(\"tr.csv\",\"w\")as f:\n",
    "    wr = c.writer(f)\n",
    "    for i in range(len(tmp)):\n",
    "        wr.writerow(tmp[i])"
   ]
  },
  {
   "cell_type": "code",
   "execution_count": 54,
   "metadata": {},
   "outputs": [
    {
     "name": "stdout",
     "output_type": "stream",
     "text": [
      "[[ 0.98427515 -0.17664212]\n",
      " [ 0.17664212  0.98427515]]\n",
      "[[ 0.98302295 -0.18348265]\n",
      " [ 0.18348265  0.98302295]]\n",
      "[[ 0.98112743 -0.19336229]\n",
      " [ 0.19336229  0.98112743]]\n"
     ]
    }
   ],
   "source": [
    "#straight\n",
    "for i in range(3):\n",
    "    print(q[i].vec)"
   ]
  },
  {
   "cell_type": "code",
   "execution_count": 65,
   "metadata": {},
   "outputs": [
    {
     "name": "stdout",
     "output_type": "stream",
     "text": [
      "[[ 0.15497479 -0.98791842]\n",
      " [-0.98791842 -0.15497479]]\n",
      "[[ 0.16243637 -0.98671902]\n",
      " [-0.98671902 -0.16243637]]\n",
      "[[ 0.14934165 -0.98878566]\n",
      " [-0.98878566 -0.14934165]]\n"
     ]
    }
   ],
   "source": [
    "#cross\n",
    "for i in range(3):\n",
    "    print(q[i].vec)"
   ]
  },
  {
   "cell_type": "code",
   "execution_count": 66,
   "metadata": {},
   "outputs": [
    {
     "name": "stdout",
     "output_type": "stream",
     "text": [
      "[ 6.14563107 21.49838188]\n",
      "[24.04040404 24.51515152]\n",
      "[42.36567164 27.58955224]\n"
     ]
    }
   ],
   "source": [
    "for i in range(3):\n",
    "    print(q[i].center)"
   ]
  },
  {
   "cell_type": "code",
   "execution_count": 69,
   "metadata": {},
   "outputs": [
    {
     "data": {
      "text/plain": [
       "array([17.89477297,  3.01676964])"
      ]
     },
     "execution_count": 69,
     "metadata": {},
     "output_type": "execute_result"
    }
   ],
   "source": [
    "(q[1].center - q[0].center)"
   ]
  },
  {
   "cell_type": "code",
   "execution_count": 88,
   "metadata": {},
   "outputs": [
    {
     "data": {
      "text/plain": [
       "array([-18.11361396, -19.46619595])"
      ]
     },
     "execution_count": 88,
     "metadata": {},
     "output_type": "execute_result"
    }
   ],
   "source": [
    "(q[1].center - q[0].center)/np.array(q[0].vec.T[1])"
   ]
  },
  {
   "cell_type": "code",
   "execution_count": 84,
   "metadata": {},
   "outputs": [],
   "source": [
    "bb = np.array(q[1].vec.T[1])  "
   ]
  },
  {
   "cell_type": "code",
   "execution_count": 86,
   "metadata": {},
   "outputs": [
    {
     "data": {
      "text/plain": [
       "array([-0.98731872, -0.15870558])"
      ]
     },
     "execution_count": 86,
     "metadata": {},
     "output_type": "execute_result"
    }
   ],
   "source": [
    "(aa+bb)/2"
   ]
  },
  {
   "cell_type": "code",
   "execution_count": null,
   "metadata": {},
   "outputs": [],
   "source": []
  },
  {
   "cell_type": "code",
   "execution_count": null,
   "metadata": {},
   "outputs": [],
   "source": []
  },
  {
   "cell_type": "code",
   "execution_count": null,
   "metadata": {},
   "outputs": [],
   "source": []
  },
  {
   "cell_type": "code",
   "execution_count": 172,
   "metadata": {},
   "outputs": [
    {
     "name": "stdout",
     "output_type": "stream",
     "text": [
      "33.375990723224334 3.015276420478211 70.10291415521363\n",
      "44.71652454705713 3.287979746107138 93.01597923744686\n",
      "25.317521178281183 1.9007148031742758 51.20689751716371\n",
      "50.00678983855293 4.343490053952856 103.28355875253277\n",
      "46.069931388591144 2.446393378947527 94.91557836774646\n",
      "72.03308063579082 11.884245626780315 149.51762984400264\n",
      "77.04800140527941 12.248119788610996 158.5550962860126\n",
      "45.098532491630976 3.3887240004245176 93.59093442118234\n",
      "44.91059494664415 3.922322702763647 92.72270969074177\n"
     ]
    }
   ],
   "source": [
    "for i in q:\n",
    "    print(i.length, i.width, i.area)"
   ]
  },
  {
   "cell_type": "code",
   "execution_count": 176,
   "metadata": {},
   "outputs": [
    {
     "name": "stdout",
     "output_type": "stream",
     "text": [
      "12.02081528017131 2.262741699796961 25.620844288350025\n",
      "41.43645737753168 6.788225099390855 89.71490618511083\n",
      "41.733114091042154 6.675320381861003 91.06280794520833\n",
      "42.42044954714167 7.741534554226974 95.93793000342353\n",
      "43.563493680504735 7.539011689054904 95.67503880338154\n",
      "95.32309525901243 80.53820156731692 308.0702968289734\n",
      "9.535141263710718 3.123580758801788 22.782359378457354\n",
      "54.98838030316544 9.861537006295611 120.62917485227376\n",
      "12.343095235798838 2.8621670111997335 27.52200008821102\n",
      "55.32491106561633 9.170768139060415 119.3418803884978\n",
      "43.565731635919676 7.726752403351784 98.79456605317668\n",
      "9.999999999999995 3.2000000000000206 22.53663105724556\n",
      "9.214251951427753 2.3426064283290935 20.87074357711168\n",
      "14.263994477758994 3.100868364730199 31.892879175670384\n",
      "42.969284532127524 7.565363099442459 97.26017459120177\n",
      "42.92497747553476 7.2410555795436435 95.9060195858735\n",
      "42.578281925685054 6.725141108986478 94.08054764557171\n",
      "10.733126291999003 4.47213595499958 24.66562126173752\n"
     ]
    }
   ],
   "source": [
    "for i in q:\n",
    "    print(i.length, i.width, i.area)"
   ]
  },
  {
   "cell_type": "code",
   "execution_count": null,
   "metadata": {},
   "outputs": [],
   "source": []
  }
 ],
 "metadata": {
  "kernelspec": {
   "display_name": "Python 3",
   "language": "python",
   "name": "python3"
  },
  "language_info": {
   "codemirror_mode": {
    "name": "ipython",
    "version": 3
   },
   "file_extension": ".py",
   "mimetype": "text/x-python",
   "name": "python",
   "nbconvert_exporter": "python",
   "pygments_lexer": "ipython3",
   "version": "3.6.5"
  },
  "widgets": {
   "state": {},
   "version": "1.1.2"
  }
 },
 "nbformat": 4,
 "nbformat_minor": 2
}
